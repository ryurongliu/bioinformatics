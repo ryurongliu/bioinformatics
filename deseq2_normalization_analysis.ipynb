{
 "cells": [
  {
   "cell_type": "code",
   "execution_count": 1,
   "id": "8ae679bf",
   "metadata": {},
   "outputs": [],
   "source": [
    "import pandas as pd\n",
    "import numpy as np\n",
    "import os\n",
    "import glob"
   ]
  },
  {
   "cell_type": "code",
   "execution_count": 65,
   "id": "011ae0c8",
   "metadata": {},
   "outputs": [],
   "source": [
    "#from https://gist.github.com/Maarten-vd-Sande/f751c1a456ce14d1d91e86846b31ae1f\n",
    "#cross-checked against outputs from deseq2 implementation in R \n",
    "\n",
    "def deseq2_norm(_data : pd.DataFrame) -> pd.DataFrame:\n",
    "    \"\"\"\n",
    "    Normalize a dataframe with the median of ratios method \n",
    "    from DESeq2. \n",
    "    \n",
    "    See for an **excellent** explanation statquest (as usual)\n",
    "    https://www.youtube.com/watch?v=UFB993xufUU\n",
    "    \n",
    "    input data (as a pandas dataframe), e.g.:\n",
    "    \n",
    "            sample1    sample2    sample3\n",
    "    gene1   0.00000    10.0000    4.00000\n",
    "    gene2   2.00000    6.00000    12.0000\n",
    "    gene3   33.5000    55.0000    200.000\n",
    "    \n",
    "    normalized output:\n",
    "            sample1    sample2    sample3\n",
    "    gene1   0.00000    10.6444    1.57882\n",
    "    gene2   4.76032    6.38664    4.73646\n",
    "    gene3   78.5453    58.5442    78.9410\n",
    "    \"\"\"\n",
    "    # step 1: log normalize\n",
    "    log_data = np.log(_data)\n",
    "\n",
    "    # step 2: average rows\n",
    "    row_avg = np.mean(log_data, axis=1)\n",
    "    \n",
    "    # step 3: filter rows with zeros\n",
    "    rows_no_zeros = row_avg[row_avg != -np.inf].index\n",
    "    \n",
    "    # step 4: subtract avg log counts from log counts\n",
    "    ratios = log_data.loc[rows_no_zeros].subtract(row_avg.loc[rows_no_zeros], axis=0)\n",
    "    \n",
    "    # step 5: calculate median of ratios\n",
    "    medians = ratios.median(axis=0)\n",
    "    \n",
    "    # step 6: median -> base number\n",
    "    scaling_factors = np.e ** medians\n",
    "    \n",
    "    # step 7: normalize!\n",
    "    normalized_data = _data / scaling_factors\n",
    "    return normalized_data"
   ]
  },
  {
   "cell_type": "code",
   "execution_count": 66,
   "id": "259a160d",
   "metadata": {},
   "outputs": [],
   "source": [
    "files = glob.glob('data/*.xlsx')"
   ]
  },
  {
   "cell_type": "markdown",
   "id": "d7c68f3b",
   "metadata": {},
   "source": [
    "## 1. Extract counts data from given files & save in standard format"
   ]
  },
  {
   "cell_type": "code",
   "execution_count": 132,
   "id": "49ec3687",
   "metadata": {},
   "outputs": [],
   "source": [
    "file = files[3] "
   ]
  },
  {
   "cell_type": "code",
   "execution_count": 133,
   "id": "07bb2435",
   "metadata": {
    "scrolled": false
   },
   "outputs": [],
   "source": [
    "file_prep = file[:-12]"
   ]
  },
  {
   "cell_type": "code",
   "execution_count": 134,
   "id": "d55338af",
   "metadata": {},
   "outputs": [
    {
     "data": {
      "text/plain": [
       "'data/TIF3_2nd_'"
      ]
     },
     "execution_count": 134,
     "metadata": {},
     "output_type": "execute_result"
    }
   ],
   "source": [
    "file_prep"
   ]
  },
  {
   "cell_type": "markdown",
   "id": "258b780c",
   "metadata": {},
   "source": [
    "#### find sheets for gene / spliced / unspliced count data"
   ]
  },
  {
   "cell_type": "code",
   "execution_count": 135,
   "id": "dedf8beb",
   "metadata": {},
   "outputs": [],
   "source": [
    "xls = pd.ExcelFile(file)"
   ]
  },
  {
   "cell_type": "code",
   "execution_count": 136,
   "id": "9216f61d",
   "metadata": {},
   "outputs": [],
   "source": [
    "data = pd.read_excel(xls, None)"
   ]
  },
  {
   "cell_type": "code",
   "execution_count": 137,
   "id": "01b4c0d0",
   "metadata": {},
   "outputs": [
    {
     "data": {
      "text/plain": [
       "dict_keys(['mapped to genes', 'mapped to unspliced fixed', 'mapped to spliced', 'conclusions using Deseq norm', 'conclusions using TPM'])"
      ]
     },
     "execution_count": 137,
     "metadata": {},
     "output_type": "execute_result"
    }
   ],
   "source": [
    "data.keys()"
   ]
  },
  {
   "cell_type": "code",
   "execution_count": 138,
   "id": "912d3d71",
   "metadata": {},
   "outputs": [],
   "source": [
    "gene_df = data['mapped to genes']\n",
    "unspliced_df = data['mapped to unspliced fixed']\n",
    "spliced_df = data['mapped to spliced']\n",
    "\n",
    "dfs = {\n",
    "    \"gene\": gene_df,\n",
    "    \"unspliced\": unspliced_df,\n",
    "    \"spliced\": spliced_df\n",
    "}"
   ]
  },
  {
   "cell_type": "markdown",
   "id": "bc89451f",
   "metadata": {},
   "source": [
    "#### clean and save data for gene / unspliced / spliced"
   ]
  },
  {
   "cell_type": "code",
   "execution_count": 141,
   "id": "9800c437",
   "metadata": {},
   "outputs": [
    {
     "name": "stdout",
     "output_type": "stream",
     "text": [
      "['Geneid', 'TIF3_noR-noD-1 against unspliced', 'TIF3_noR-noD-2 against unspliced', 'TIF3_noR-noD-3 against unspliced', 'TIF3_noR-wD-1 against unspliced', 'TIF3_noR-wD-2 against unspliced', 'TIF3_noR-wD-3 against unspliced']\n",
      "['Geneid', 'TIF3_noR-noD-1 against unspliced', 'TIF3_noR-noD-2 against unspliced', 'TIF3_noR-noD-3 against unspliced', 'TIF3_noR-wD-1 against unspliced', 'TIF3_noR-wD-2 against unspliced', 'TIF3_noR-wD-3 against unspliced']\n",
      "['Geneid', 'TIF3_noR-noD-1 against unspliced', 'TIF3_noR-noD-2 against unspliced', 'TIF3_noR-noD-3 against unspliced', 'TIF3_noR-wD-1 against unspliced', 'TIF3_noR-wD-2 against unspliced', 'TIF3_noR-wD-3 against unspliced']\n"
     ]
    }
   ],
   "source": [
    "for key, df in dfs.items():\n",
    "    #get desired columns and rows\n",
    "    df = df.iloc[0:16869, [0, 6, 7, 8, 9, 10, 11]]\n",
    "    \n",
    "    filename = file_prep + key + \"_data.csv\"\n",
    "    \n",
    "    print(list(df))\n",
    "    \n",
    "    df.to_csv(filename, sep=\"\\t\", index=False)"
   ]
  },
  {
   "cell_type": "markdown",
   "id": "7253d6fc",
   "metadata": {},
   "source": [
    "## 2. Perform Deseq2 median of ratios on all datasets"
   ]
  },
  {
   "cell_type": "code",
   "execution_count": 229,
   "id": "4376d095",
   "metadata": {},
   "outputs": [],
   "source": [
    "folders = glob.glob(\"data/*\")"
   ]
  },
  {
   "cell_type": "code",
   "execution_count": 231,
   "id": "46aec0be",
   "metadata": {
    "scrolled": true
   },
   "outputs": [
    {
     "name": "stderr",
     "output_type": "stream",
     "text": [
      "/Users/larkpie/mambaforge/lib/python3.9/site-packages/pandas/core/internals/blocks.py:329: RuntimeWarning: divide by zero encountered in log\n",
      "  result = func(self.values, **kwargs)\n",
      "/Users/larkpie/mambaforge/lib/python3.9/site-packages/pandas/core/internals/blocks.py:329: RuntimeWarning: divide by zero encountered in log\n",
      "  result = func(self.values, **kwargs)\n",
      "/Users/larkpie/mambaforge/lib/python3.9/site-packages/pandas/core/internals/blocks.py:329: RuntimeWarning: divide by zero encountered in log\n",
      "  result = func(self.values, **kwargs)\n",
      "/Users/larkpie/mambaforge/lib/python3.9/site-packages/pandas/core/internals/blocks.py:329: RuntimeWarning: divide by zero encountered in log\n",
      "  result = func(self.values, **kwargs)\n",
      "/Users/larkpie/mambaforge/lib/python3.9/site-packages/pandas/core/internals/blocks.py:329: RuntimeWarning: divide by zero encountered in log\n",
      "  result = func(self.values, **kwargs)\n",
      "/Users/larkpie/mambaforge/lib/python3.9/site-packages/pandas/core/internals/blocks.py:329: RuntimeWarning: divide by zero encountered in log\n",
      "  result = func(self.values, **kwargs)\n",
      "/Users/larkpie/mambaforge/lib/python3.9/site-packages/pandas/core/internals/blocks.py:329: RuntimeWarning: divide by zero encountered in log\n",
      "  result = func(self.values, **kwargs)\n",
      "/Users/larkpie/mambaforge/lib/python3.9/site-packages/pandas/core/internals/blocks.py:329: RuntimeWarning: divide by zero encountered in log\n",
      "  result = func(self.values, **kwargs)\n",
      "/Users/larkpie/mambaforge/lib/python3.9/site-packages/pandas/core/internals/blocks.py:329: RuntimeWarning: divide by zero encountered in log\n",
      "  result = func(self.values, **kwargs)\n",
      "/Users/larkpie/mambaforge/lib/python3.9/site-packages/pandas/core/internals/blocks.py:329: RuntimeWarning: divide by zero encountered in log\n",
      "  result = func(self.values, **kwargs)\n",
      "/Users/larkpie/mambaforge/lib/python3.9/site-packages/pandas/core/internals/blocks.py:329: RuntimeWarning: divide by zero encountered in log\n",
      "  result = func(self.values, **kwargs)\n",
      "/Users/larkpie/mambaforge/lib/python3.9/site-packages/pandas/core/internals/blocks.py:329: RuntimeWarning: divide by zero encountered in log\n",
      "  result = func(self.values, **kwargs)\n"
     ]
    }
   ],
   "source": [
    "for folder in folders:\n",
    "    files = glob.glob(folder + \"/*.csv\")\n",
    "\n",
    "    #read dfs from files\n",
    "    dfs = {}\n",
    "    for file in files:\n",
    "        df = pd.read_csv(file, sep='\\t')\n",
    "        df.set_index(\"Geneid\", inplace=True)\n",
    "\n",
    "        if \"gene\" in file:\n",
    "            df.rename(columns=lambda x: x.split(\" \")[0] + \"_against_gene\", inplace=True)\n",
    "            dfs['gene'] = df\n",
    "        elif \"unspliced\" in file:\n",
    "            df.rename(columns=lambda x: x.split(\" \")[0] + \"_against_unspliced\", inplace=True)\n",
    "            dfs['unspliced'] = df\n",
    "        elif \"spliced\" in file:\n",
    "            df.rename(columns=lambda x: x.split(\" \")[0] + \"_against_spliced\", inplace=True)\n",
    "            dfs['spliced'] = df\n",
    "\n",
    "\n",
    "    #perform median of ratios\n",
    "    mor = {}\n",
    "    for key, df in dfs.items():\n",
    "\n",
    "        normed = deseq2_norm(df)\n",
    "        normed.rename(columns=lambda x: x + \"_mor\", inplace=True)\n",
    "        mor[key] = normed\n",
    "\n",
    "\n",
    "    #add one to all mor\n",
    "    mor_add_1 = {}\n",
    "    for key, df in mor.items():\n",
    "\n",
    "        add_1 = df + 1\n",
    "        add_1.rename(columns=lambda x: x + \"_add_1\", inplace=True)\n",
    "        mor_add_1[key] = add_1\n",
    "\n",
    "\n",
    "    #normalize to gene\n",
    "    spliced_normed_to_gene = mor_add_1[\"spliced\"].values / mor_add_1[\"gene\"].values\n",
    "    spliced_normed_to_gene = pd.DataFrame(spliced_normed_to_gene, index = mor_add_1[\"spliced\"].index,\n",
    "                                         columns = mor_add_1['spliced'].columns)\n",
    "    spliced_normed_to_gene.rename(columns=lambda x: x + \"_normed_to_gene\", inplace=True)\n",
    "\n",
    "    unspliced_normed_to_gene = mor_add_1[\"unspliced\"].values / mor_add_1[\"gene\"].values\n",
    "    unspliced_normed_to_gene = pd.DataFrame(unspliced_normed_to_gene, index = mor_add_1[\"unspliced\"].index,\n",
    "                                         columns = mor_add_1['unspliced'].columns)\n",
    "    unspliced_normed_to_gene.rename(columns=lambda x: x + \"_normed_to_gene\", inplace=True)\n",
    "\n",
    "    #get integer values\n",
    "    gene_avg = mor_add_1[\"gene\"].mean(axis=None) #average of all gene data\n",
    "\n",
    "    spliced_normed_int = np.ceil(spliced_normed_to_gene * gene_avg)\n",
    "    spliced_normed_int.rename(columns=lambda x: x + \"_int\", inplace=True)\n",
    "\n",
    "    unspliced_normed_int = np.ceil(unspliced_normed_to_gene * gene_avg)\n",
    "    unspliced_normed_int.rename(columns=lambda x: x + \"_int\", inplace=True)\n",
    "\n",
    "\n",
    "    #write to xlsx file\n",
    "    dataname = folder.split(\"/\")[1]\n",
    "    filename = dataname + \"_MOR_summary.xlsx\"\n",
    "\n",
    "    #sheet 1: gene [counts, mor, mor+1]\n",
    "    gene_sheet = pd.concat([dfs['gene'], mor['gene'], mor_add_1['gene']], axis=1)\n",
    "    gene_sheetname = dataname + \"_genes\"\n",
    "\n",
    "    #sheet 2: unspliced [counts, mor, mor+1, mor+1 normed to gene, mor+1 normed to gene int]\n",
    "    unspliced_sheet = pd.concat([dfs['unspliced'],\n",
    "                                mor['unspliced'],\n",
    "                                mor_add_1['unspliced'],\n",
    "                                unspliced_normed_to_gene,\n",
    "                                unspliced_normed_int],\n",
    "                                axis = 1)\n",
    "    unspliced_sheetname = dataname + \"_unspliced\"\n",
    "\n",
    "    #sheet 3: spliced   [counts, mor, mor+1, mor+1 normed to gene, mor+1 normed to gene int]\n",
    "    spliced_sheet = pd.concat([dfs['spliced'],\n",
    "                                mor['spliced'],\n",
    "                                mor_add_1['spliced'],\n",
    "                                spliced_normed_to_gene,\n",
    "                                spliced_normed_int],\n",
    "                                axis = 1)\n",
    "    spliced_sheetname = dataname + \"_spliced\"\n",
    "\n",
    "    with pd.ExcelWriter(filename) as writer:\n",
    "\n",
    "        # use to_excel function and specify the sheet_name and index \n",
    "        # to store the dataframe in specified sheet\n",
    "        gene_sheet.to_excel(writer, sheet_name=gene_sheetname)\n",
    "        unspliced_sheet.to_excel(writer, sheet_name=unspliced_sheetname)\n",
    "        spliced_sheet.to_excel(writer, sheet_name=spliced_sheetname)"
   ]
  },
  {
   "cell_type": "code",
   "execution_count": null,
   "id": "962d5a02",
   "metadata": {},
   "outputs": [],
   "source": []
  }
 ],
 "metadata": {
  "kernelspec": {
   "display_name": "Python 3 (ipykernel)",
   "language": "python",
   "name": "python3"
  },
  "language_info": {
   "codemirror_mode": {
    "name": "ipython",
    "version": 3
   },
   "file_extension": ".py",
   "mimetype": "text/x-python",
   "name": "python",
   "nbconvert_exporter": "python",
   "pygments_lexer": "ipython3",
   "version": "3.9.19"
  }
 },
 "nbformat": 4,
 "nbformat_minor": 5
}
